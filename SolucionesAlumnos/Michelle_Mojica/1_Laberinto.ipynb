{
 "cells": [
  {
   "cell_type": "code",
   "execution_count": 10,
   "id": "9b511869",
   "metadata": {},
   "outputs": [],
   "source": [
    "# Recorre todo el laberinto, colorear de otro color el camino que se ha recorrido, despues eliminar las oslas que bloquean y quedarnos unicamente con el camino libre, mostrar iteraciones ya que recorra cierta cantidad de puntos del laberinto"
   ]
  },
  {
   "cell_type": "code",
   "execution_count": 11,
   "id": "7c19683f",
   "metadata": {},
   "outputs": [],
   "source": [
    "import copy\n",
    "from collections import deque\n",
    "import numpy as np\n",
    "import random\n",
    "import matplotlib.pyplot as plt\n",
    "from heapq import heappush, heappop\n",
    "from matplotlib.colors import ListedColormap\n"
   ]
  },
  {
   "cell_type": "code",
   "execution_count": 12,
   "id": "6ef73199",
   "metadata": {},
   "outputs": [
    {
     "name": "stdout",
     "output_type": "stream",
     "text": [
      "111111111111111111111\n",
      "100000100010000010001\n",
      "111010101010111010101\n",
      "100000001000100000101\n",
      "101111101111101111101\n",
      "100000101000000000001\n",
      "111110101110101111111\n",
      "100000100000100010001\n",
      "101111111010111011101\n",
      "100000001010001000101\n",
      "111011101110101110101\n",
      "100000001000001010101\n",
      "101010101011111010101\n",
      "101010100010000010101\n",
      "111010101110111010101\n",
      "100010100000100010001\n",
      "101110101011101111101\n",
      "101000101010000010001\n",
      "101111101010111110111\n",
      "100000001000000000001\n",
      "111111111111111111111\n"
     ]
    }
   ],
   "source": [
    "np.random.seed(42)\n",
    "random.seed(42)\n",
    "\n",
    "def generar_laberinto_conectado(filas, columnas):\n",
    "    if filas % 2 == 0: filas += 1\n",
    "    if columnas % 2 == 0: columnas += 1\n",
    "    laberinto = [['1' for _ in range(columnas)] for _ in range(filas)]\n",
    "    visitado = [[False for _ in range(columnas)] for _ in range(filas)]\n",
    "\n",
    "    def vecinos(x, y):\n",
    "        dirs = [(-2,0),(2,0),(0,-2),(0,2)]\n",
    "        result = []\n",
    "        for dx, dy in dirs:\n",
    "            nx, ny = x+dx, y+dy\n",
    "            if 0 <= nx < filas and 0 <= ny < columnas and not visitado[nx][ny]:\n",
    "                result.append((nx, ny))\n",
    "        random.shuffle(result)\n",
    "        return result\n",
    "\n",
    "    def dfs(x, y):\n",
    "        visitado[x][y] = True\n",
    "        laberinto[x][y] = '0'\n",
    "        for nx, ny in vecinos(x, y):\n",
    "            if not visitado[nx][ny]:\n",
    "                laberinto[(x+nx)//2][(y+ny)//2] = '0'\n",
    "                dfs(nx, ny)\n",
    "\n",
    "    dfs(1, 1)\n",
    "\n",
    "    for i in range(3, filas-1, 4):\n",
    "        for j in range(3, columnas-1, 4):\n",
    "            if random.random() < 0.3:\n",
    "                if i > 0 and laberinto[i-1][j] == '1':\n",
    "                    laberinto[i-1][j] = '0'\n",
    "                elif j > 0 and laberinto[i][j-1] == '1':\n",
    "                    laberinto[i][j-1] = '0'\n",
    "    return laberinto\n",
    "\n",
    "laberinto_conectado = generar_laberinto_conectado(20, 20)\n",
    "for fila in laberinto_conectado:\n",
    "    print(''.join(fila))\n"
   ]
  },
  {
   "cell_type": "markdown",
   "id": "89e005cc",
   "metadata": {},
   "source": [
    "# Convertir el laberinto a un array NumPy para visualizarlo"
   ]
  },
  {
   "cell_type": "code",
   "execution_count": 13,
   "id": "eb293287",
   "metadata": {},
   "outputs": [],
   "source": [
    "# 0 = libre, 1 = pared, 2 = visitado (gris)\n",
    "cmap = ListedColormap([[1,1,1], [0,0,0], [0.6,0.6,0.6]])\n",
    "\n",
    "def to_numeric_grid(lab):\n",
    "    h, w = len(lab), len(lab[0])\n",
    "    M = np.zeros((h, w), dtype=np.uint8)\n",
    "    for i in range(h):\n",
    "        for j in range(w):\n",
    "            M[i, j] = 1 if lab[i][j] == '1' else 0\n",
    "    return M\n",
    "\n",
    "def draw_state(ax, base_grid, visited_set, title):\n",
    "    img = base_grid.copy().astype(np.uint8)   # 0/1\n",
    "    for (r, c) in visited_set:\n",
    "        if base_grid[r, c] == 0:\n",
    "            img[r, c] = 2                    # gris\n",
    "    img[base_grid == 1] = 1                  # asegurar muros negros\n",
    "    ax.imshow(img, cmap=cmap, interpolation='nearest', vmin=0, vmax=2)\n",
    "    ax.set_title(title)\n",
    "    ax.axis('off')\n",
    "\n",
    "base = to_numeric_grid(laberinto_conectado)\n"
   ]
  },
  {
   "cell_type": "markdown",
   "id": "1193a5b5",
   "metadata": {},
   "source": [
    "# Algoritmo de resolución del laberinto"
   ]
  },
  {
   "cell_type": "code",
   "execution_count": 14,
   "id": "a0867238",
   "metadata": {},
   "outputs": [],
   "source": [
    "def astar(grid, start, goal):\n",
    "    if start == goal: return [start]\n",
    "    h, w = grid.shape\n",
    "    def hfun(a,b): return abs(a[0]-b[0]) + abs(a[1]-b[1])\n",
    "    open_heap = []\n",
    "    heappush(open_heap, (hfun(start, goal), 0, start))\n",
    "    came, g, open_set = {}, {start:0}, {start}\n",
    "    while open_heap:\n",
    "        _, gcur, cur = heappop(open_heap)\n",
    "        if cur == goal:\n",
    "            path = [cur]\n",
    "            while cur in came:\n",
    "                cur = came[cur]; path.append(cur)\n",
    "            return list(reversed(path))\n",
    "        open_set.discard(cur)\n",
    "        r,c = cur\n",
    "        for dr,dc in ((1,0),(-1,0),(0,1),(0,-1)):\n",
    "            nr,nc = r+dr, c+dc\n",
    "            if not (0<=nr<h and 0<=nc<w): continue\n",
    "            if grid[nr,nc] == 1: continue\n",
    "            ng = gcur + 1\n",
    "            nxt = (nr,nc)\n",
    "            if ng < g.get(nxt, 1<<30):\n",
    "                came[nxt] = cur; g[nxt] = ng\n",
    "                f = ng + hfun(nxt, goal)\n",
    "                if nxt not in open_set:\n",
    "                    heappush(open_heap, (f, ng, nxt)); open_set.add(nxt)\n",
    "    return []\n",
    "\n",
    "def primera_libre(grid):\n",
    "    h,w = grid.shape\n",
    "    for i in range(h):\n",
    "        for j in range(w):\n",
    "            if grid[i,j] == 0:\n",
    "                return (i,j)\n",
    "    return None\n",
    "\n",
    "def vecinos4(grid, r, c):\n",
    "    for dr,dc in ((1,0),(-1,0),(0,1),(0,-1)):\n",
    "        nr,nc = r+dr, c+dc\n",
    "        if 0<=nr<grid.shape[0] and 0<=nc<grid.shape[1]:\n",
    "            yield (nr,nc)\n",
    "\n",
    "def fill_all_with_astar(grid):\n",
    "    start = primera_libre(grid)\n",
    "    if start is None: return [], set()\n",
    "    libres_total = int(np.sum(grid==0))\n",
    "    visited = {start}\n",
    "    cur = start\n",
    "\n",
    "    def frontier():\n",
    "        F=set()\n",
    "        for (r,c) in visited:\n",
    "            for (nr,nc) in vecinos4(grid,r,c):\n",
    "                if grid[nr,nc]==0 and (nr,nc) not in visited:\n",
    "                    F.add((nr,nc))\n",
    "        return F\n",
    "\n",
    "    F = frontier()\n",
    "    milestones = [int(libres_total*0.3), int(libres_total*0.6), int(libres_total*0.9)]\n",
    "    snaps=[]\n",
    "\n",
    "    while len(visited)<libres_total and F:\n",
    "        goal = min(F, key=lambda p: abs(p[0]-cur[0])+abs(p[1]-cur[1]))\n",
    "        path = astar(grid, cur, goal)\n",
    "        if not path:\n",
    "            F.discard(goal); continue\n",
    "        for cell in path: visited.add(cell)\n",
    "        cur = goal\n",
    "        F = frontier()\n",
    "        while milestones and len(visited) >= milestones[0]:\n",
    "            snaps.append(set(visited)); milestones.pop(0)\n",
    "\n",
    "    while len(snaps)<3: snaps.append(set(visited))\n",
    "    return snaps, visited\n",
    "\n",
    "snapshots, visited_final = fill_all_with_astar(base)\n"
   ]
  },
  {
   "cell_type": "markdown",
   "id": "b8b3a924",
   "metadata": {},
   "source": [
    "# Muestra parcialmente la ruta tomada."
   ]
  },
  {
   "cell_type": "code",
   "execution_count": 15,
   "id": "9584a8ba",
   "metadata": {},
   "outputs": [
    {
     "data": {
      "image/png": "[encoded data removed]",
      "text/plain": [
       "<Figure size 400x400 with 1 Axes>"
      ]
     },
     "metadata": {},
     "output_type": "display_data"
    }
   ],
   "source": [
    "# Generar laberinto\n",
    "lab = generar_laberinto_conectado(20, 20)\n",
    "base = to_numeric_grid(lab)\n",
    "\n",
    "# Rellenar hasta snapshots\n",
    "snapshots, visited_final = fill_all_with_astar(base)\n",
    "\n",
    "# Mostrar solo el 30 %\n",
    "plt.figure(figsize=(4,4))\n",
    "draw_state(plt.gca(), base, snapshots[0], \"Llenado ~30%\")\n",
    "plt.show()\n"
   ]
  },
  {
   "cell_type": "code",
   "execution_count": 16,
   "id": "a2eeb9b5",
   "metadata": {},
   "outputs": [
    {
     "data": {
      "image/png": "[encoded data removed]",
      "text/plain": [
       "<Figure size 400x400 with 1 Axes>"
      ]
     },
     "metadata": {},
     "output_type": "display_data"
    }
   ],
   "source": [
    "# Mostrar solo el 60 %\n",
    "plt.figure(figsize=(4,4))\n",
    "draw_state(plt.gca(), base, snapshots[1], \"Llenado ~60%\")\n",
    "plt.show()\n"
   ]
  },
  {
   "cell_type": "code",
   "execution_count": 17,
   "id": "58541f5d",
   "metadata": {},
   "outputs": [
    {
     "data": {
      "image/png": "[encoded data removed]",
      "text/plain": [
       "<Figure size 400x400 with 1 Axes>"
      ]
     },
     "metadata": {},
     "output_type": "display_data"
    }
   ],
   "source": [
    "# Mostrar solo el 90 %\n",
    "plt.figure(figsize=(4,4))\n",
    "draw_state(plt.gca(), base, snapshots[2], \"Llenado ~90%\")\n",
    "plt.show()\n"
   ]
  },
  {
   "cell_type": "code",
   "execution_count": 18,
   "id": "f4fb0213",
   "metadata": {},
   "outputs": [
    {
     "data": {
      "image/png": "[encoded data removed]",
      "text/plain": [
       "<Figure size 400x400 with 1 Axes>"
      ]
     },
     "metadata": {},
     "output_type": "display_data"
    }
   ],
   "source": [
    "# Muestra el recorrido del laberinto completo \n",
    "plt.figure(figsize=(4,4))\n",
    "draw_state(plt.gca(), base, visited_final, \"Llenado 100% (final)\")\n",
    "plt.show()"
   ]
  }
 ],
 "metadata": {
  "kernelspec": {
   "display_name": "base",
   "language": "python",
   "name": "python3"
  },
  "language_info": {
   "codemirror_mode": {
    "name": "ipython",
    "version": 3
   },
   "file_extension": ".py",
   "mimetype": "text/x-python",
   "name": "python",
   "nbconvert_exporter": "python",
   "pygments_lexer": "ipython3",
   "version": "3.13.5"
  }
 },
 "nbformat": 4,
 "nbformat_minor": 5
}
