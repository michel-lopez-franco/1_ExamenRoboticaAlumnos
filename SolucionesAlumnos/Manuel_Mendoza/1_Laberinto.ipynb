{
 "cells": [
  {
   "cell_type": "code",
   "execution_count": 70,
   "id": "7c19683f",
   "metadata": {},
   "outputs": [],
   "source": [
    "import numpy as np\n",
    "import random\n",
    "import matplotlib.pyplot as plt\n",
    "from collections import deque\n",
    "from matplotlib.animation import FuncAnimation, PillowWriter"
   ]
  },
  {
   "cell_type": "code",
   "execution_count": 71,
   "id": "6ef73199",
   "metadata": {},
   "outputs": [
    {
     "name": "stdout",
     "output_type": "stream",
     "text": [
      "111111111111111111111\n",
      "101000100000000000001\n",
      "101010101110101011101\n",
      "100010100010001010001\n",
      "111110111010111110101\n",
      "100000100010000000101\n",
      "101111111110111111101\n",
      "101000000000100000101\n",
      "101011111110101110101\n",
      "100010001000100010101\n",
      "111110101010111010101\n",
      "100000001000100010001\n",
      "101110111110101111101\n",
      "101010000010101000001\n",
      "101011101010101111111\n",
      "100000101000100000001\n",
      "111110101111101111101\n",
      "100010001000001000101\n",
      "101011101111111010101\n",
      "100000000000000010001\n",
      "111111111111111111111\n"
     ]
    }
   ],
   "source": [
    "np.random.seed(52)\n",
    "random.seed(52)\n",
    "\n",
    "def generar_laberinto_conectado(filas, columnas):\n",
    "    # Asegurar que filas y columnas sean impares para el algoritmo\n",
    "    if filas % 2 == 0:\n",
    "        filas += 1\n",
    "    if columnas % 2 == 0:\n",
    "        columnas += 1\n",
    "        \n",
    "    # Inicializar laberinto con todas las paredes\n",
    "    laberinto = [['1' for _ in range(columnas)] for _ in range(filas)]\n",
    "    visitado = [[False for _ in range(columnas)] for _ in range(filas)]\n",
    "    \n",
    "    def vecinos(x, y):\n",
    "        dirs = [(-2,0),(2,0),(0,-2),(0,2)]\n",
    "        result = []\n",
    "        for dx, dy in dirs:\n",
    "            nx, ny = x+dx, y+dy\n",
    "            if 0 <= nx < filas and 0 <= ny < columnas and not visitado[nx][ny]:\n",
    "                result.append((nx, ny))\n",
    "        random.shuffle(result)\n",
    "        return result\n",
    "    \n",
    "    def dfs(x, y):\n",
    "        visitado[x][y] = True\n",
    "        laberinto[x][y] = '0'\n",
    "        \n",
    "        for nx, ny in vecinos(x, y):\n",
    "            if not visitado[nx][ny]:\n",
    "                # Elimina la pared entre celdas\n",
    "                laberinto[(x+nx)//2][(y+ny)//2] = '0'\n",
    "                dfs(nx, ny)\n",
    "    \n",
    "    # Comenzar desde una posición impar (esquina superior izquierda válida)\n",
    "    start_x, start_y = 1, 1\n",
    "    if start_x < filas and start_y < columnas:\n",
    "        dfs(start_x, start_y)\n",
    "    \n",
    "    # Crear algunas aberturas adicionales para hacer el laberinto más interesante\n",
    "    # y asegurar que no queden áreas completamente aisladas\n",
    "    for i in range(3, filas-1, 4):\n",
    "        for j in range(3, columnas-1, 4):\n",
    "            if random.random() < 0.3:  # 30% probabilidad de crear apertura\n",
    "                if i > 0 and laberinto[i-1][j] == '1':\n",
    "                    laberinto[i-1][j] = '0'\n",
    "                elif j > 0 and laberinto[i][j-1] == '1':\n",
    "                    laberinto[i][j-1] = '0'\n",
    "    \n",
    "    return laberinto\n",
    "\n",
    "laberinto_conectado = generar_laberinto_conectado(20, 20)\n",
    "\n",
    "for fila in laberinto_conectado:\n",
    "    print(''.join(fila))\n"
   ]
  },
  {
   "cell_type": "markdown",
   "id": "89e005cc",
   "metadata": {},
   "source": [
    "# Convertir el laberinto a un array NumPy para visualizarlo"
   ]
  },
  {
   "cell_type": "code",
   "execution_count": 76,
   "id": "eb293287",
   "metadata": {},
   "outputs": [
    {
     "data": {
      "image/png": "[encoded data removed]",
      "text/plain": [
       "<Figure size 800x800 with 1 Axes>"
      ]
     },
     "metadata": {},
     "output_type": "display_data"
    }
   ],
   "source": [
    "# Convertir el laberinto (lista de listas con '0' y '1') en un array NumPy de enteros\n",
    "laberinto_array = np.array(laberinto_conectado, dtype=int)\n",
    "\n",
    "# Visualización con matplotlib\n",
    "plt.figure(figsize=(8,8))\n",
    "plt.imshow(laberinto_array, cmap=\"BuGn\")  # 'binary' pone 0 en blanco y 1 en negro\n",
    "plt.title(\"Laberinto generado\")\n",
    "plt.axis(\"off\")\n",
    "plt.show()"
   ]
  },
  {
   "cell_type": "markdown",
   "id": "a82cb73d",
   "metadata": {},
   "source": [
    "# Muestra Inicio, Fin"
   ]
  },
  {
   "cell_type": "code",
   "execution_count": 77,
   "id": "60f1be18",
   "metadata": {},
   "outputs": [
    {
     "data": {
      "image/png": "[encoded data removed]",
      "text/plain": [
       "<Figure size 800x800 with 1 Axes>"
      ]
     },
     "metadata": {},
     "output_type": "display_data"
    }
   ],
   "source": [
    "origen = (1, 1)\n",
    "destino = (len(laberinto_array)-2, len(laberinto_array[0])-2)\n",
    "laberinto_indicacion = laberinto_array.copy()\n",
    "\n",
    "for(x, y) in [origen]:\n",
    "    laberinto_indicacion[x][y] = 2\n",
    "for(x, y) in [destino]:\n",
    "    laberinto_indicacion[x][y] = 3\n",
    "\n",
    "\n",
    "plt.figure(figsize=(8,8))\n",
    "plt.imshow(laberinto_indicacion, cmap=\"inferno\")\n",
    "plt.title(\"Laberinto generado\")\n",
    "plt.axis(\"off\")\n",
    "plt.show()"
   ]
  },
  {
   "cell_type": "markdown",
   "id": "b8b3a924",
   "metadata": {},
   "source": [
    "# Muestra parcialmente la ruta tomada."
   ]
  },
  {
   "cell_type": "code",
   "execution_count": 82,
   "id": "9584a8ba",
   "metadata": {},
   "outputs": [
    {
     "name": "stdout",
     "output_type": "stream",
     "text": [
      "✅ GIF generado: 'laberinto.gif'\n"
     ]
    }
   ],
   "source": [
    "import numpy as np\n",
    "import matplotlib.pyplot as plt\n",
    "from matplotlib.animation import FuncAnimation, PillowWriter\n",
    "from collections import deque\n",
    "\n",
    "# --- BFS paso a paso con almacenamiento de frames ---\n",
    "def bfs_animado(laberinto, origen, destino):\n",
    "    filas, columnas = laberinto.shape\n",
    "    visitado = np.full((filas, columnas), False)\n",
    "    padres = {}\n",
    "    movimientos = [(-1,0),(1,0),(0,-1),(0,1)]\n",
    "    \n",
    "    cola = deque([origen])\n",
    "    visitado[origen] = True\n",
    "    \n",
    "    frames = []  # guardaremos cada estado\n",
    "    \n",
    "    while cola:\n",
    "        x, y = cola.popleft()\n",
    "        \n",
    "        # Guardar frame del estado actual\n",
    "        frame = laberinto.copy()\n",
    "        frame[origen] = 2\n",
    "        frame[destino] = 3\n",
    "        for (vx, vy), v in np.ndenumerate(visitado):\n",
    "            if v:\n",
    "                if frame[vx, vy] == 0:\n",
    "                    frame[vx, vy] = 5  # celdas visitadas\n",
    "        frames.append(frame)\n",
    "        \n",
    "        if (x, y) == destino:\n",
    "            # reconstruir camino\n",
    "            camino = []\n",
    "            while (x, y) != origen:\n",
    "                camino.append((x, y))\n",
    "                x, y = padres[(x, y)]\n",
    "            camino.append(origen)\n",
    "            camino.reverse()\n",
    "            \n",
    "            # Agregar frames del camino final\n",
    "            for (cx, cy) in camino:\n",
    "                frame = frames[-1].copy()\n",
    "                frame[cx, cy] = 4  # marcar camino\n",
    "                frames.append(frame)\n",
    "            return frames\n",
    "        \n",
    "        for dx, dy in movimientos:\n",
    "            nx, ny = x+dx, y+dy\n",
    "            if (0 <= nx < filas and 0 <= ny < columnas and\n",
    "                not visitado[nx, ny] and laberinto[nx, ny] == 0):\n",
    "                visitado[nx, ny] = True\n",
    "                padres[(nx, ny)] = (x, y)\n",
    "                cola.append((nx, ny))\n",
    "    \n",
    "    return frames  # si no hay solución\n",
    "\n",
    "\n",
    "# Generar frames del BFS\n",
    "frames = bfs_animado(laberinto_array, origen, destino)\n",
    "\n",
    "# --- Crear animación ---\n",
    "fig, ax = plt.subplots(figsize=(6,6))\n",
    "img = ax.imshow(frames[0], cmap=\"inferno\", animated=True)\n",
    "ax.axis(\"off\")\n",
    "\n",
    "def update(frame):\n",
    "    img.set_array(frame)\n",
    "    return [img]\n",
    "\n",
    "ani = FuncAnimation(fig, update, frames=frames, interval=100, blit=True)\n",
    "\n",
    "# Guardar como GIF\n",
    "ani.save(\"laberinto.gif\", writer=PillowWriter(fps=10))\n",
    "\n",
    "plt.close(fig)  # cerrar figura para que no se repita al exportar\n",
    "\n",
    "print(\"✅ GIF generado: 'laberinto.gif'\")\n"
   ]
  },
  {
   "cell_type": "code",
   "execution_count": null,
   "id": "a2eeb9b5",
   "metadata": {},
   "outputs": [],
   "source": []
  },
  {
   "cell_type": "code",
   "execution_count": null,
   "id": "58541f5d",
   "metadata": {},
   "outputs": [],
   "source": []
  },
  {
   "cell_type": "code",
   "execution_count": null,
   "id": "b65cd372",
   "metadata": {},
   "outputs": [],
   "source": []
  },
  {
   "cell_type": "code",
   "execution_count": 75,
   "id": "f4fb0213",
   "metadata": {},
   "outputs": [],
   "source": [
    "# Muestra el recorrido del laberinto completo "
   ]
  },
  {
   "cell_type": "code",
   "execution_count": null,
   "id": "f9d19902",
   "metadata": {},
   "outputs": [],
   "source": []
  },
  {
   "cell_type": "code",
   "execution_count": null,
   "id": "93b13cb7",
   "metadata": {},
   "outputs": [],
   "source": []
  }
 ],
 "metadata": {
  "kernelspec": {
   "display_name": "UP",
   "language": "python",
   "name": "python3"
  },
  "language_info": {
   "codemirror_mode": {
    "name": "ipython",
    "version": 3
   },
   "file_extension": ".py",
   "mimetype": "text/x-python",
   "name": "python",
   "nbconvert_exporter": "python",
   "pygments_lexer": "ipython3",
   "version": "3.13.5"
  }
 },
 "nbformat": 4,
 "nbformat_minor": 5
}
